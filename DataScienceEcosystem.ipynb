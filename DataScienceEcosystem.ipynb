{
 "cells": [
  {
   "cell_type": "markdown",
   "id": "4333f889-968b-460f-ab60-76c742e70a35",
   "metadata": {},
   "source": [
    "## Author: Fernando Jimenez Busquet"
   ]
  },
  {
   "cell_type": "code",
   "execution_count": null,
   "id": "fda81fa2-e5db-47d7-8430-942f06b24a8a",
   "metadata": {},
   "outputs": [],
   "source": []
  },
  {
   "cell_type": "markdown",
   "id": "2ff6ea10-6ca7-40c7-b549-844c89e978bb",
   "metadata": {},
   "source": [
    "# Data Science Tools and Ecosystem"
   ]
  },
  {
   "cell_type": "markdown",
   "id": "83a6346e-7dc2-4fa0-b35c-3b84f8fc524e",
   "metadata": {},
   "source": [
    "In this notebook, Data Science Tools and Ecosystem are summarized."
   ]
  },
  {
   "cell_type": "markdown",
   "id": "e02739a4-2ee4-4fbb-9761-a3d783216670",
   "metadata": {},
   "source": [
    "**Objectives:**\n",
    "\n",
    "- List popular languages for Data Science.\n",
    "- List commonly used libraries in Data Science.\n",
    "- Create and format markdown cells in Jupyter Notebook.\n",
    "- Perform basic arithmetic operations in Python.\n",
    "- Convert time measurements, such as minutes to hours."
   ]
  },
  {
   "cell_type": "markdown",
   "id": "b9a8945b-7c5b-4688-a42d-f8a0bcaff896",
   "metadata": {},
   "source": [
    "Some of the popular languages that Data Scientists use are:"
   ]
  },
  {
   "cell_type": "markdown",
   "id": "d789748a-7032-4fce-b1ef-fb1cfc60426b",
   "metadata": {},
   "source": [
    "1. Python\n",
    "2. R\n",
    "3. Julia"
   ]
  },
  {
   "cell_type": "markdown",
   "id": "87a0f48b-d36d-4fcd-adfe-a896778debcd",
   "metadata": {},
   "source": [
    "Some of the commonly used libraries used by Data Scientists include:\n",
    "1. NumPy\n",
    "2. Pandas\n",
    "3. Matplotlib\n",
    "4. Seaborn\n",
    "5. Plotly\n",
    "6. Scikit-Learn"
   ]
  },
  {
   "cell_type": "markdown",
   "id": "c959f402-449a-4b70-ad98-b0b1765d6f2f",
   "metadata": {},
   "source": [
    "| Data Science Tools        |\n",
    "|---------------------------|\n",
    "| Jupyter Notebook          |\n",
    "| RStudio                   |\n",
    "| Apache Zeppelin           |\n"
   ]
  },
  {
   "cell_type": "markdown",
   "id": "ca7ee624-9867-4b99-8637-fef333991f74",
   "metadata": {},
   "source": [
    "### Below are a few examples of evaluating arithmetic expressions in Python"
   ]
  },
  {
   "cell_type": "code",
   "execution_count": 1,
   "id": "2dd1f443-e534-42df-8e80-7cdf26968c6e",
   "metadata": {},
   "outputs": [
    {
     "data": {
      "text/plain": [
       "17"
      ]
     },
     "execution_count": 1,
     "metadata": {},
     "output_type": "execute_result"
    }
   ],
   "source": [
    "### This a simple arithmetic expression to mutiply then add integers\n",
    "\n",
    "(3*4)+5"
   ]
  },
  {
   "cell_type": "code",
   "execution_count": 4,
   "id": "5fbdbbd3-b35a-4b1d-af62-c1d34ca9d840",
   "metadata": {},
   "outputs": [
    {
     "data": {
      "text/plain": [
       "'200 minutes, corresponds to 3 hour(s) and 20 minute(s)'"
      ]
     },
     "execution_count": 4,
     "metadata": {},
     "output_type": "execute_result"
    }
   ],
   "source": [
    "### This will convert 200 minutes to hours by diving by 60\n",
    "\n",
    "total_minutes = 200\n",
    "hours = total_minutes // 60 \n",
    "minutes = total_minutes % 60\n",
    "\n",
    "f\"{total_minutes} minutes, corresponds to {hours} hour(s) and {minutes} minute(s)\"\n"
   ]
  },
  {
   "cell_type": "code",
   "execution_count": null,
   "id": "411d9a34-b889-4f72-b15a-7f03461d603a",
   "metadata": {},
   "outputs": [],
   "source": []
  }
 ],
 "metadata": {
  "kernelspec": {
   "display_name": "Python 3 (ipykernel)",
   "language": "python",
   "name": "python3"
  },
  "language_info": {
   "codemirror_mode": {
    "name": "ipython",
    "version": 3
   },
   "file_extension": ".py",
   "mimetype": "text/x-python",
   "name": "python",
   "nbconvert_exporter": "python",
   "pygments_lexer": "ipython3",
   "version": "3.11.9"
  }
 },
 "nbformat": 4,
 "nbformat_minor": 5
}
